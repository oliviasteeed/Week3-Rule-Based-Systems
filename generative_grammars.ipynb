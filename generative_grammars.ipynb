{
  "cells": [
    {
      "cell_type": "markdown",
      "metadata": {
        "id": "view-in-github",
        "colab_type": "text"
      },
      "source": [
        "<a href=\"https://colab.research.google.com/github/oliviasteeed/Week3-Rule-Based-Systems/blob/main/generative_grammars.ipynb\" target=\"_parent\"><img src=\"https://colab.research.google.com/assets/colab-badge.svg\" alt=\"Open In Colab\"/></a>"
      ]
    },
    {
      "cell_type": "markdown",
      "metadata": {
        "id": "letKt8wLVNqL"
      },
      "source": [
        "<a href=\"https://colab.research.google.com/github/IAT-ComputationalCreativity-Spring2025/Week3-Rule-Based-Systems/blob/main/generative_grammars.ipynb\" target=\"_parent\"><img src=\"https://colab.research.google.com/assets/colab-badge.svg\" alt=\"Open In Colab\"/></a>"
      ]
    },
    {
      "cell_type": "markdown",
      "metadata": {
        "id": "gZUiRVFSVNqP"
      },
      "source": [
        "# Generative Grammars Lab Exercise\n",
        "\n",
        "This notebook introduces context-free grammars and their implementation in Python\n",
        "for generating natural language sentences."
      ]
    },
    {
      "cell_type": "markdown",
      "metadata": {
        "id": "dVa1SXliVNqQ"
      },
      "source": [
        "## Introduction to Generative Grammars\n",
        "\n",
        "A context-free grammar consists of:\n",
        "- **Terminal symbols**: Words that appear in the final output (e.g., \"cat\", \"dog\")\n",
        "- **Non-terminal symbols**: Placeholders that get replaced by other symbols (e.g., NP, VP)\n",
        "- **Production rules**: Rules that define how non-terminals can be replaced\n",
        "\n",
        "For example:\n",
        "- S → NP VP (A sentence consists of a noun phrase followed by a verb phrase)\n",
        "- NP → Det N (A noun phrase consists of a determiner followed by a noun)\n",
        "- VP → V (A verb phrase can be just a verb)"
      ]
    },
    {
      "cell_type": "code",
      "execution_count": null,
      "metadata": {
        "id": "nDb08Z5HVNqR"
      },
      "outputs": [],
      "source": [
        "import random\n",
        "\n",
        "# Define our basic grammar\n",
        "basic_grammar = {\n",
        "    'S': [['NP', 'VP']],\n",
        "    'NP': [['Det', 'N'], ['Det', 'Adj', 'N']],\n",
        "    'VP': [['V', 'NP'], ['V']],\n",
        "    'Det': ['the', 'a', 'my'],\n",
        "    'N': ['cat', 'dog', 'robot', 'programmer', 'student'],\n",
        "    'V': ['sleeps', 'jumps', 'codes', 'runs'],\n",
        "    'Adj': ['quick', 'lazy', 'clever', 'brave', 'confused', 'concerned', 'distressed']\n",
        "}\n",
        "\n",
        "def generate(symbol, grammar):\n",
        "    \"\"\"\n",
        "    Recursively generate a string from the grammar starting with the given symbol.\n",
        "\n",
        "    Args:\n",
        "        symbol: The symbol to start generating from\n",
        "\n",
        "    Returns:\n",
        "        A string generated from the grammar rules\n",
        "    \"\"\"\n",
        "    if isinstance(symbol, str) and symbol in grammar:\n",
        "        production = random.choice(grammar[symbol])\n",
        "        if isinstance(production, list):\n",
        "            return ' '.join(generate(sym, grammar) for sym in production)\n",
        "        return production\n",
        "    return symbol"
      ]
    },
    {
      "cell_type": "markdown",
      "metadata": {
        "id": "JcjjoyDIVNqS"
      },
      "source": [
        "## Basic Sentence Generation\n",
        "\n",
        "Let's generate some basic sentences using our grammar:"
      ]
    },
    {
      "cell_type": "code",
      "execution_count": null,
      "metadata": {
        "colab": {
          "base_uri": "https://localhost:8080/"
        },
        "id": "cTMAlrVOVNqT",
        "outputId": "b6789c76-6bff-4318-ff0a-61f48eaa4c2d"
      },
      "outputs": [
        {
          "output_type": "stream",
          "name": "stdout",
          "text": [
            "Generated sentences:\n",
            "\n",
            "1. a clever robot jumps my cat\n",
            "2. my confused programmer codes a student\n",
            "3. the clever dog sleeps\n",
            "4. the confused dog sleeps\n",
            "5. the student sleeps my brave dog\n",
            "6. my confused robot codes my brave dog\n",
            "7. a concerned robot codes\n",
            "8. a distressed dog sleeps the clever cat\n",
            "9. a concerned robot sleeps a concerned programmer\n",
            "10. a confused dog runs the brave dog\n",
            "11. my lazy dog jumps\n",
            "12. a robot sleeps a programmer\n",
            "13. my student runs my distressed programmer\n",
            "14. my quick robot jumps\n",
            "15. the cat sleeps my dog\n",
            "16. the brave programmer codes a programmer\n",
            "17. my student jumps my quick dog\n",
            "18. a programmer runs my concerned cat\n",
            "19. a robot runs a cat\n",
            "20. the cat jumps\n"
          ]
        }
      ],
      "source": [
        "print(\"Generated sentences:\\n\")\n",
        "for i in range(20):\n",
        "    print(f\"{i+1}. {generate('S', basic_grammar)}\")"
      ]
    },
    {
      "cell_type": "markdown",
      "metadata": {
        "id": "KKcu8sbDVNqT"
      },
      "source": [
        "## Exercise 1: Expanding the Grammar\n",
        "\n",
        "Now it's your turn! Modify the grammar to include:\n",
        "- More nouns\n",
        "- More adjectives\n",
        "- More verbs\n",
        "\n",
        "Try adding these categories:\n"
      ]
    },
    {
      "cell_type": "code",
      "execution_count": null,
      "metadata": {
        "id": "fVeX9el8VNqU"
      },
      "outputs": [],
      "source": [
        "# Create an expanded grammar\n",
        "expanded_grammar = basic_grammar.copy()  # Start with our original grammar\n",
        "\n",
        "# Add more words to existing categories\n",
        "# i.e. expanded_grammar['N'].extend(['apple', 'orange'])\n",
        "expanded_grammar['N'].extend(['tree', 'sun', 'cloud', 'grass', 'ground', 'bird', 'plant'])\n",
        "expanded_grammar['V'].extend(['scream', 'leave', 'escape'])\n",
        "expanded_grammar['Adj'].extend(['pink', 'soft', 'warm', 'cold', 'blue', 'yellow'])\n",
        "expanded_grammar['Det'].extend(['the', 'an', 'a', 'one', 'three'])"
      ]
    },
    {
      "cell_type": "code",
      "execution_count": null,
      "metadata": {
        "colab": {
          "base_uri": "https://localhost:8080/"
        },
        "id": "6D7WFoSDVNqU",
        "outputId": "e4854770-50c1-4a49-83c9-7baeddc61263"
      },
      "outputs": [
        {
          "output_type": "stream",
          "name": "stdout",
          "text": [
            "Generated sentences with expanded vocabulary:\n",
            "\n",
            "1. the soft robot jumps my soft student\n",
            "2. three concerned cat jumps a robot\n",
            "3. my grass scream a dog\n",
            "4. a cat scream one quick cat\n",
            "5. one programmer codes\n",
            "6. an bird escape the confused grass\n",
            "7. three concerned cloud jumps a grass\n",
            "8. a concerned dog runs a concerned student\n",
            "9. three lazy sun scream the student\n",
            "10. my cloud escape a tree\n"
          ]
        }
      ],
      "source": [
        "# Try the expanded grammar\n",
        "print(\"Generated sentences with expanded vocabulary:\\n\")\n",
        "for i in range(10):\n",
        "    print(f\"{i+1}. {generate('S', expanded_grammar)}\")"
      ]
    },
    {
      "cell_type": "markdown",
      "metadata": {
        "id": "drCGaBh1VNqV"
      },
      "source": [
        "## Exercise 2: Adding Questions\n",
        "\n",
        "Let's modify the grammar to generate questions. We'll need:\n",
        "- Question words (who, what, where, etc.)\n",
        "- New production rules for question structure\n",
        "- Appropriate verb forms"
      ]
    },
    {
      "cell_type": "code",
      "execution_count": null,
      "metadata": {
        "id": "TjVddPspVNqV"
      },
      "outputs": [],
      "source": [
        "# Create a grammar with questions\n",
        "question_grammar = expanded_grammar.copy()\n",
        "\n",
        "# Question-related rules\n",
        "question_grammar['S'].append(['Q'])  # Add question as possible sentence type\n",
        "# Create some question structures and words here\n",
        "question_grammar['Q'] = [['QW', 'NP', 'VP']]  # Question structures\n",
        "question_grammar['QW'] = ['is', 'could', 'why', 'when', 'does', 'will', 'how', 'what']  # Question words\n",
        "\n"
      ]
    },
    {
      "cell_type": "code",
      "execution_count": null,
      "metadata": {
        "colab": {
          "base_uri": "https://localhost:8080/"
        },
        "id": "5iHQ0iCdVNqW",
        "outputId": "70a43a75-60be-49b9-a05a-8eb907552fec"
      },
      "outputs": [
        {
          "output_type": "stream",
          "name": "stdout",
          "text": [
            "Generated questions:\n",
            "\n",
            "1. what three bird codes my blue dog?\n",
            "2. when an bird sleeps the clever tree?\n",
            "3. why an plant leave?\n",
            "4. will the concerned student scream the ground?\n",
            "5. will a cat jumps the blue bird?\n",
            "6. how the grass codes a distressed programmer?\n",
            "7. will a warm robot escape?\n",
            "8. is an robot runs?\n",
            "9. could my dog escape one grass?\n",
            "10. will the bird escape an cat?\n"
          ]
        }
      ],
      "source": [
        "print(\"Generated questions:\\n\")\n",
        "for i in range(10):\n",
        "    print(f\"{i+1}. {generate('Q', question_grammar)}?\")"
      ]
    },
    {
      "cell_type": "markdown",
      "metadata": {
        "id": "JQGR-d0jVNqW"
      },
      "source": [
        "## Challenge: Poetry Generation\n",
        "\n",
        "Create a grammar that generates simple poetry. Consider:\n",
        "- Line structures\n",
        "- Rhyming words\n",
        "- Poetic phrases"
      ]
    },
    {
      "cell_type": "code",
      "execution_count": null,
      "metadata": {
        "id": "yVsxB1LZVNqW"
      },
      "outputs": [],
      "source": [
        "# Define a poetry-specific grammar\n",
        "# poetry_grammar = {\n",
        "#     'POEM': [['LINE', 'LINE', 'LINE', 'LINE']],  # Four-line poem\n",
        "#     'LINE': [['PHRASE', ',','PHRASE']],  # Two phrases per line\n",
        "#     'PHRASE': [['ADJ', 'N', 'V', 'ADV']],  # Phrase structure\n",
        "#     'ADJ': ['silent', 'gentle', 'misty', 'golden', 'dreamy', 'soft', 'hard', 'sharp', 'clear', 'divine', 'transcendent'],\n",
        "#     'N': ['moon', 'wind', 'river', 'mountain', 'dream', 'sky', 'stream', 'wave', 'sun', 'star', 'spark', 'soul', 'seeker'],\n",
        "#     'V': ['whispers', 'dances', 'flows', 'glides', 'sings', 'sleeps', 'wakes', 'jumps', 'sways', 'joins', 'merges'],\n",
        "#     'ADV': ['slowly', 'sweetly', 'gently', 'quietly', 'peacefully', 'resonantly', 'clearly', 'sharply']\n",
        "# }\n",
        "\n",
        "# haiku 5-7-5\n",
        "\n",
        "poetry_grammar = {\n",
        "    'POEM': [['FIVE', 'SEVEN', 'FIVE']],  # Haiku\n",
        "    'FIVE': [['N', 'V','ADJ', 'VPAST', '\\n']],  # Two phrases per line\n",
        "    'SEVEN': [['VPAST', 'ADV', 'ADV', 'ADJ', '\\n']],  # Phrase structure\n",
        "\n",
        "    'ADJ': ['loud', 'clear', 'soft', 'hard', 'sharp'],\n",
        "    'N': ['moon', 'wind', 'sun', 'sky', 'wave', 'star', 'spark', 'soul', 'fog', 'leaf', 'tree', 'sea', 'shore', 'sand', 'mist', 'fire', 'stone'],\n",
        "    'V': ['grows', 'falls', 'runs', 'bleeds', 'fades', 'turns', 'laps', 'limps', 'breathes', 'sighs'],\n",
        "    'VPAST': ['faded', 'echoed', 'lingered', 'wandered', 'opened', 'whispered'],\n",
        "    'ADV': ['slowly', 'sweetly', 'gently', 'clearly', 'sharply', 'totally']\n",
        "}\n",
        "\n",
        "def generate_poem(symbol='POEM'):\n",
        "    \"\"\"\n",
        "    Generate a poem using our poetry grammar\n",
        "    \"\"\"\n",
        "    if isinstance(symbol, str) and symbol in poetry_grammar:\n",
        "        production = random.choice(poetry_grammar[symbol])\n",
        "        if isinstance(production, list):\n",
        "            result = [generate_poem(sym) for sym in production]\n",
        "            if symbol == 'LINE':\n",
        "                return ' '.join(result) + '\\n'\n",
        "            return ' '.join(result)\n",
        "        return production\n",
        "\n",
        "    return symbol + ' '"
      ]
    },
    {
      "cell_type": "code",
      "execution_count": null,
      "metadata": {
        "colab": {
          "base_uri": "https://localhost:8080/"
        },
        "id": "fVSboMGIVNqW",
        "outputId": "4c20901b-ab3e-4b9b-9ee2-2a36059f1be8"
      },
      "outputs": [
        {
          "output_type": "stream",
          "name": "stdout",
          "text": [
            "Generated poem:\n",
            "\n",
            "sun breathes clear faded \n",
            "  opened clearly sweetly soft \n",
            "  shore breathes sharp opened \n",
            " \n"
          ]
        }
      ],
      "source": [
        "print(\"Generated poem:\\n\")\n",
        "print(generate_poem())"
      ]
    },
    {
      "cell_type": "markdown",
      "metadata": {
        "id": "T5hI-l7lVNqW"
      },
      "source": [
        "## Exercises for Practice\n",
        "\n",
        "1. Try adding different types of sentence structures to the basic grammar\n",
        "2. Create themed vocabularies (e.g., science fiction, fantasy, nature)\n",
        "3. Modify the poetry generator to create different verse structures\n",
        "4. Add rhyming capabilities to the poetry generator\n",
        "5. Implement a grammar for generating specific types of text (e.g., news headlines, weather reports)\n",
        "\n",
        "Remember: The beauty of generative grammars lies in their ability to create infinite variations from a finite set of rules!"
      ]
    }
  ],
  "metadata": {
    "kernelspec": {
      "display_name": "iat460",
      "language": "python",
      "name": "python3"
    },
    "language_info": {
      "codemirror_mode": {
        "name": "ipython",
        "version": 3
      },
      "file_extension": ".py",
      "mimetype": "text/x-python",
      "name": "python",
      "nbconvert_exporter": "python",
      "pygments_lexer": "ipython3",
      "version": "3.9.21"
    },
    "colab": {
      "provenance": [],
      "include_colab_link": true
    }
  },
  "nbformat": 4,
  "nbformat_minor": 0
}